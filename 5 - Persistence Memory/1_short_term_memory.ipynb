{
 "cells": [
  {
   "cell_type": "markdown",
   "id": "e3fd84d1",
   "metadata": {},
   "source": [
    "## We will learn this latter"
   ]
  }
 ],
 "metadata": {
  "language_info": {
   "name": "python"
  }
 },
 "nbformat": 4,
 "nbformat_minor": 5
}
