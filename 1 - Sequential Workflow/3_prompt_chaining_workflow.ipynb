{
 "cells": [
  {
   "cell_type": "code",
   "execution_count": 4,
   "id": "d89086ed",
   "metadata": {},
   "outputs": [],
   "source": [
    "# import libraries\n",
    "from langgraph.graph import StateGraph, START, END\n",
    "from langchain_core.output_parsers import StrOutputParser\n",
    "from langchain_groq import ChatGroq\n",
    "from typing import TypedDict\n",
    "from dotenv import load_dotenv"
   ]
  },
  {
   "cell_type": "code",
   "execution_count": 5,
   "id": "8511943c",
   "metadata": {},
   "outputs": [],
   "source": [
    "# define your state\n",
    "class LLMState(TypedDict):\n",
    "    topic: str\n",
    "    outline: str\n",
    "    blog: str"
   ]
  },
  {
   "cell_type": "code",
   "execution_count": 12,
   "id": "b82845e1",
   "metadata": {},
   "outputs": [],
   "source": [
    "# create nodes\n",
    "model = ChatGroq(model=\"llama3-8b-8192\", temperature=0.7)\n",
    "parser = StrOutputParser()\n",
    "chain = model | parser\n",
    "\n",
    "def gen_outline(state: LLMState) -> LLMState:\n",
    "    topic = state[\"topic\"]\n",
    "\n",
    "    prompt = f\"Generate an outline for the blog on the topic:\\n<topic>{topic}</topic>\"\n",
    "    outline = chain.invoke(prompt)\n",
    "\n",
    "    state[\"outline\"] = outline\n",
    "    return state\n",
    "\n",
    "def gen_blog(state: LLMState) -> LLMState:\n",
    "    topic = state[\"topic\"]\n",
    "    outline = state[\"outline\"]\n",
    "\n",
    "    prompt = f\"Write a detailed blog for the given topic and outline:\\n<topic>{topic}</topic>\\n<outline>{outline}</outline>\"\n",
    "    blog = chain.invoke(prompt)\n",
    "    \n",
    "    state[\"blog\"] = blog\n",
    "    return state"
   ]
  },
  {
   "cell_type": "code",
   "execution_count": 13,
   "id": "56afd0cc",
   "metadata": {},
   "outputs": [],
   "source": [
    "# define your graph\n",
    "graph = StateGraph(LLMState)"
   ]
  },
  {
   "cell_type": "code",
   "execution_count": 14,
   "id": "ff511ecc",
   "metadata": {},
   "outputs": [
    {
     "data": {
      "text/plain": [
       "<langgraph.graph.state.StateGraph at 0x214774d0810>"
      ]
     },
     "execution_count": 14,
     "metadata": {},
     "output_type": "execute_result"
    }
   ],
   "source": [
    "# define your nodes\n",
    "graph.add_node(\"gen_outline\", gen_outline)\n",
    "graph.add_node(\"gen_blog\", gen_blog)"
   ]
  },
  {
   "cell_type": "code",
   "execution_count": 15,
   "id": "b412825f",
   "metadata": {},
   "outputs": [
    {
     "data": {
      "text/plain": [
       "<langgraph.graph.state.StateGraph at 0x214774d0810>"
      ]
     },
     "execution_count": 15,
     "metadata": {},
     "output_type": "execute_result"
    }
   ],
   "source": [
    "# define your edges\n",
    "graph.add_edge(START, \"gen_outline\")\n",
    "graph.add_edge(\"gen_outline\", \"gen_blog\")\n",
    "graph.add_edge(\"gen_blog\", END)"
   ]
  },
  {
   "cell_type": "code",
   "execution_count": 16,
   "id": "99ba816a",
   "metadata": {},
   "outputs": [
    {
     "data": {
      "image/png": "[encoded data removed]",
      "text/plain": [
       "<langgraph.graph.state.CompiledStateGraph object at 0x0000021476C55E90>"
      ]
     },
     "execution_count": 16,
     "metadata": {},
     "output_type": "execute_result"
    }
   ],
   "source": [
    "# compile and crete workflow\n",
    "workflow = graph.compile()\n",
    "workflow"
   ]
  },
  {
   "cell_type": "code",
   "execution_count": 17,
   "id": "cd51e5af",
   "metadata": {},
   "outputs": [
    {
     "data": {
      "text/plain": [
       "{'topic': 'AI Changing the World',\n",
       " 'outline': 'Here is a suggested outline for a blog on the topic \"AI Changing the World\":\\n\\n**I. Introduction**\\n\\n* Brief overview of the impact of AI on society\\n* Thesis statement: AI is revolutionizing the world in various ways, transforming industries, and improving lives.\\n\\n**II. Medical Breakthroughs**\\n\\n* AI-assisted diagnosis and treatment\\n* Personalized medicine and patient care\\n* Examples of successful AI applications in healthcare (e.g., IBM\\'s Watson, AI-powered diagnostic tools)\\n\\n**III. Automation and Efficiency**\\n\\n* AI-powered robots and machines in manufacturing and logistics\\n* Enhanced productivity and reduced costs\\n* Examples of industries where AI has increased efficiency (e.g., customer service, inventory management)\\n\\n**IV. Environmental Sustainability**\\n\\n* AI-powered monitoring and prediction of natural disasters\\n* Smart grids and energy management\\n* AI-assisted conservation efforts (e.g., wildlife tracking, climate modeling)\\n\\n**V. Education and Learning**\\n\\n* AI-powered adaptive learning systems\\n* Personalized learning experiences\\n* AI-assisted teaching and grading\\n\\n**VI. Transportation and Infrastructure**\\n\\n* AI-powered autonomous vehicles\\n* Smart traffic management and optimization\\n* AI-assisted infrastructure maintenance and planning\\n\\n**VII. Cybersecurity**\\n\\n* AI-powered threat detection and prevention\\n* AI-assisted incident response and mitigation\\n* Examples of AI-based cybersecurity successes and failures\\n\\n**VIII. Conclusion**\\n\\n* Recap of the transformative power of AI\\n* Future prospects and potential challenges of AI adoption\\n* Final thoughts on the significance of AI in changing the world.\\n\\nThis outline provides a comprehensive overview of the various ways AI is changing the world, from medical breakthroughs to environmental sustainability, education, and more. You can expand or modify it to fit your specific writing style and focus.',\n",
       " 'blog': \"**AI Changing the World: Revolutionizing Industries and Improving Lives**\\n\\nArtificial Intelligence (AI) has been a buzzword for several years now, and for good reason. AI is transforming industries, improving lives, and revolutionizing the way we live and work. From medical breakthroughs to environmental sustainability, education, and more, AI is having a profound impact on society. In this blog, we'll explore the various ways AI is changing the world and the exciting prospects and challenges that come with it.\\n\\n**Medical Breakthroughs**\\n\\nOne of the most significant areas where AI is making a difference is in medicine. AI-assisted diagnosis and treatment are revolutionizing the way doctors diagnose and treat diseases. For example, IBM's Watson is being used to analyze vast amounts of medical data to help doctors identify the most effective treatment options for patients. AI-powered diagnostic tools are also being used to detect diseases earlier and more accurately, such as AI-powered mammography systems that can detect breast cancer more effectively than human radiologists.\\n\\nPersonalized medicine is another area where AI is making a significant impact. By analyzing genetic data and medical histories, AI-powered systems can create personalized treatment plans tailored to an individual's unique needs. This approach has been shown to be more effective and efficient than traditional approaches, and has the potential to revolutionize the way we treat complex diseases.\\n\\n**Automation and Efficiency**\\n\\nAI is also transforming industries through automation and efficiency. AI-powered robots and machines are being used in manufacturing and logistics to streamline processes and increase productivity. For example, AI-powered warehouse robots can efficiently pick and pack orders, reducing labor costs and increasing accuracy. AI-powered customer service chatbots are also being used to provide 24/7 support to customers, reducing the need for human customer service agents and increasing customer satisfaction.\\n\\nAI is also being used to optimize inventory management and supply chain logistics. For example, AI-powered inventory management systems can analyze sales data and inventory levels to predict and prevent stockouts and overstocking. This approach has been shown to reduce inventory costs and improve customer satisfaction.\\n\\n**Environmental Sustainability**\\n\\nAI is also being used to promote environmental sustainability. AI-powered monitoring and prediction systems are being used to track and predict natural disasters such as hurricanes and wildfires. This information can be used to evacuate people and resources in advance, reducing the risk of damage and loss of life.\\n\\nAI is also being used to optimize energy management and reduce waste. For example, AI-powered smart grids can analyze energy usage patterns and optimize energy distribution to reduce waste and improve efficiency. AI-powered waste management systems can also analyze waste streams and optimize recycling and disposal processes to reduce waste and improve environmental sustainability.\\n\\n**Education and Learning**\\n\\nAI is also transforming education and learning. AI-powered adaptive learning systems are being used to personalize learning experiences for students. By analyzing student data and learning patterns, AI-powered systems can adjust the difficulty and content of educational materials to meet individual students' needs.\\n\\nAI is also being used to assist teachers and grading. For example, AI-powered grading systems can analyze student assignments and exams to provide instant feedback and grading. This approach has been shown to reduce grading time and improve student outcomes.\\n\\n**Transportation and Infrastructure**\\n\\nAI is also transforming transportation and infrastructure. AI-powered autonomous vehicles are being tested and implemented on roads around the world, with the potential to revolutionize the way we travel. AI-powered smart traffic management systems can also optimize traffic flow and reduce congestion, improving travel times and reducing emissions.\\n\\nAI is also being used to improve infrastructure maintenance and planning. For example, AI-powered systems can analyze data from sensors and cameras to detect and predict infrastructure problems such as potholes and cracks. This information can be used to prioritize maintenance and repair, reducing downtime and improving road safety.\\n\\n**Cybersecurity**\\n\\nFinally, AI is also being used to improve cybersecurity. AI-powered threat detection and prevention systems can analyze vast amounts of data to identify and prevent cyber attacks. AI-powered incident response and mitigation systems can also quickly identify and respond to security breaches, reducing the risk of data loss and compromise.\\n\\nIn conclusion, AI is revolutionizing industries and improving lives in a wide range of ways. From medical breakthroughs to environmental sustainability, education, and more, AI is transforming the way we live and work. While there are certainly challenges and potential risks associated with AI adoption, the benefits are undeniable. As AI continues to evolve and improve, we can expect to see even more exciting developments and innovations in the years to come.\\n\\nFuture prospects and potential challenges of AI adoption include:\\n\\n* Job displacement: As AI takes over certain tasks and jobs, there is a risk of job displacement and unemployment.\\n* Bias and discrimination: AI systems can perpetuate biases and discrimination if they are trained on biased data.\\n* Cybersecurity risks: AI-powered systems can be vulnerable to cyber attacks and data breaches.\\n* Dependence on technology: Over-reliance on AI can lead to a loss of human skills and abilities.\\n\\nHowever, with careful planning, implementation, and regulation, we can mitigate these risks and harness the transformative power of AI to create a better future for all.\"}"
      ]
     },
     "execution_count": 17,
     "metadata": {},
     "output_type": "execute_result"
    }
   ],
   "source": [
    "# execute workflow\n",
    "initial_state = {\"topic\": \"AI Changing the World\"}\n",
    "output_state = workflow.invoke(initial_state)\n",
    "output_state"
   ]
  },
  {
   "cell_type": "code",
   "execution_count": 19,
   "id": "9a454e00",
   "metadata": {},
   "outputs": [
    {
     "name": "stdout",
     "output_type": "stream",
     "text": [
      "TOPIC\n",
      " ---------- \n",
      " AI Changing the World \n",
      "\n",
      "OUTLINE\n",
      " ---------- \n",
      " Here is a suggested outline for a blog on the topic \"AI Changing the World\":\n",
      "\n",
      "**I. Introduction**\n",
      "\n",
      "* Brief overview of the impact of AI on society\n",
      "* Thesis statement: AI is revolutionizing the world in various ways, transforming industries, and improving lives.\n",
      "\n",
      "**II. Medical Breakthroughs**\n",
      "\n",
      "* AI-assisted diagnosis and treatment\n",
      "* Personalized medicine and patient care\n",
      "* Examples of successful AI applications in healthcare (e.g., IBM's Watson, AI-powered diagnostic tools)\n",
      "\n",
      "**III. Automation and Efficiency**\n",
      "\n",
      "* AI-powered robots and machines in manufacturing and logistics\n",
      "* Enhanced productivity and reduced costs\n",
      "* Examples of industries where AI has increased efficiency (e.g., customer service, inventory management)\n",
      "\n",
      "**IV. Environmental Sustainability**\n",
      "\n",
      "* AI-powered monitoring and prediction of natural disasters\n",
      "* Smart grids and energy management\n",
      "* AI-assisted conservation efforts (e.g., wildlife tracking, climate modeling)\n",
      "\n",
      "**V. Education and Learning**\n",
      "\n",
      "* AI-powered adaptive learning systems\n",
      "* Personalized learning experiences\n",
      "* AI-assisted teaching and grading\n",
      "\n",
      "**VI. Transportation and Infrastructure**\n",
      "\n",
      "* AI-powered autonomous vehicles\n",
      "* Smart traffic management and optimization\n",
      "* AI-assisted infrastructure maintenance and planning\n",
      "\n",
      "**VII. Cybersecurity**\n",
      "\n",
      "* AI-powered threat detection and prevention\n",
      "* AI-assisted incident response and mitigation\n",
      "* Examples of AI-based cybersecurity successes and failures\n",
      "\n",
      "**VIII. Conclusion**\n",
      "\n",
      "* Recap of the transformative power of AI\n",
      "* Future prospects and potential challenges of AI adoption\n",
      "* Final thoughts on the significance of AI in changing the world.\n",
      "\n",
      "This outline provides a comprehensive overview of the various ways AI is changing the world, from medical breakthroughs to environmental sustainability, education, and more. You can expand or modify it to fit your specific writing style and focus. \n",
      "\n",
      "BLOG\n",
      " ---------- \n",
      " **AI Changing the World: Revolutionizing Industries and Improving Lives**\n",
      "\n",
      "Artificial Intelligence (AI) has been a buzzword for several years now, and for good reason. AI is transforming industries, improving lives, and revolutionizing the way we live and work. From medical breakthroughs to environmental sustainability, education, and more, AI is having a profound impact on society. In this blog, we'll explore the various ways AI is changing the world and the exciting prospects and challenges that come with it.\n",
      "\n",
      "**Medical Breakthroughs**\n",
      "\n",
      "One of the most significant areas where AI is making a difference is in medicine. AI-assisted diagnosis and treatment are revolutionizing the way doctors diagnose and treat diseases. For example, IBM's Watson is being used to analyze vast amounts of medical data to help doctors identify the most effective treatment options for patients. AI-powered diagnostic tools are also being used to detect diseases earlier and more accurately, such as AI-powered mammography systems that can detect breast cancer more effectively than human radiologists.\n",
      "\n",
      "Personalized medicine is another area where AI is making a significant impact. By analyzing genetic data and medical histories, AI-powered systems can create personalized treatment plans tailored to an individual's unique needs. This approach has been shown to be more effective and efficient than traditional approaches, and has the potential to revolutionize the way we treat complex diseases.\n",
      "\n",
      "**Automation and Efficiency**\n",
      "\n",
      "AI is also transforming industries through automation and efficiency. AI-powered robots and machines are being used in manufacturing and logistics to streamline processes and increase productivity. For example, AI-powered warehouse robots can efficiently pick and pack orders, reducing labor costs and increasing accuracy. AI-powered customer service chatbots are also being used to provide 24/7 support to customers, reducing the need for human customer service agents and increasing customer satisfaction.\n",
      "\n",
      "AI is also being used to optimize inventory management and supply chain logistics. For example, AI-powered inventory management systems can analyze sales data and inventory levels to predict and prevent stockouts and overstocking. This approach has been shown to reduce inventory costs and improve customer satisfaction.\n",
      "\n",
      "**Environmental Sustainability**\n",
      "\n",
      "AI is also being used to promote environmental sustainability. AI-powered monitoring and prediction systems are being used to track and predict natural disasters such as hurricanes and wildfires. This information can be used to evacuate people and resources in advance, reducing the risk of damage and loss of life.\n",
      "\n",
      "AI is also being used to optimize energy management and reduce waste. For example, AI-powered smart grids can analyze energy usage patterns and optimize energy distribution to reduce waste and improve efficiency. AI-powered waste management systems can also analyze waste streams and optimize recycling and disposal processes to reduce waste and improve environmental sustainability.\n",
      "\n",
      "**Education and Learning**\n",
      "\n",
      "AI is also transforming education and learning. AI-powered adaptive learning systems are being used to personalize learning experiences for students. By analyzing student data and learning patterns, AI-powered systems can adjust the difficulty and content of educational materials to meet individual students' needs.\n",
      "\n",
      "AI is also being used to assist teachers and grading. For example, AI-powered grading systems can analyze student assignments and exams to provide instant feedback and grading. This approach has been shown to reduce grading time and improve student outcomes.\n",
      "\n",
      "**Transportation and Infrastructure**\n",
      "\n",
      "AI is also transforming transportation and infrastructure. AI-powered autonomous vehicles are being tested and implemented on roads around the world, with the potential to revolutionize the way we travel. AI-powered smart traffic management systems can also optimize traffic flow and reduce congestion, improving travel times and reducing emissions.\n",
      "\n",
      "AI is also being used to improve infrastructure maintenance and planning. For example, AI-powered systems can analyze data from sensors and cameras to detect and predict infrastructure problems such as potholes and cracks. This information can be used to prioritize maintenance and repair, reducing downtime and improving road safety.\n",
      "\n",
      "**Cybersecurity**\n",
      "\n",
      "Finally, AI is also being used to improve cybersecurity. AI-powered threat detection and prevention systems can analyze vast amounts of data to identify and prevent cyber attacks. AI-powered incident response and mitigation systems can also quickly identify and respond to security breaches, reducing the risk of data loss and compromise.\n",
      "\n",
      "In conclusion, AI is revolutionizing industries and improving lives in a wide range of ways. From medical breakthroughs to environmental sustainability, education, and more, AI is transforming the way we live and work. While there are certainly challenges and potential risks associated with AI adoption, the benefits are undeniable. As AI continues to evolve and improve, we can expect to see even more exciting developments and innovations in the years to come.\n",
      "\n",
      "Future prospects and potential challenges of AI adoption include:\n",
      "\n",
      "* Job displacement: As AI takes over certain tasks and jobs, there is a risk of job displacement and unemployment.\n",
      "* Bias and discrimination: AI systems can perpetuate biases and discrimination if they are trained on biased data.\n",
      "* Cybersecurity risks: AI-powered systems can be vulnerable to cyber attacks and data breaches.\n",
      "* Dependence on technology: Over-reliance on AI can lead to a loss of human skills and abilities.\n",
      "\n",
      "However, with careful planning, implementation, and regulation, we can mitigate these risks and harness the transformative power of AI to create a better future for all. \n",
      "\n"
     ]
    }
   ],
   "source": [
    "print(\"TOPIC\\n\", \"-\"*10, \"\\n\", output_state[\"topic\"], \"\\n\")\n",
    "print(\"OUTLINE\\n\", \"-\"*10, \"\\n\", output_state[\"outline\"], \"\\n\")\n",
    "print(\"BLOG\\n\", \"-\"*10, \"\\n\", output_state[\"blog\"], \"\\n\")"
   ]
  },
  {
   "cell_type": "code",
   "execution_count": null,
   "id": "9d3ec1ba",
   "metadata": {},
   "outputs": [],
   "source": []
  }
 ],
 "metadata": {
  "kernelspec": {
   "display_name": "venv",
   "language": "python",
   "name": "python3"
  },
  "language_info": {
   "codemirror_mode": {
    "name": "ipython",
    "version": 3
   },
   "file_extension": ".py",
   "mimetype": "text/x-python",
   "name": "python",
   "nbconvert_exporter": "python",
   "pygments_lexer": "ipython3",
   "version": "3.11.9"
  }
 },
 "nbformat": 4,
 "nbformat_minor": 5
}
