{
 "cells": [
  {
   "cell_type": "code",
   "execution_count": 32,
   "id": "8c225fa1",
   "metadata": {},
   "outputs": [
    {
     "data": {
      "text/plain": [
       "True"
      ]
     },
     "execution_count": 32,
     "metadata": {},
     "output_type": "execute_result"
    }
   ],
   "source": [
    "from langgraph.graph import StateGraph, START, END\n",
    "from langchain_groq import ChatGroq\n",
    "from typing import TypedDict, Literal\n",
    "from pydantic import BaseModel, Field\n",
    "from dotenv import load_dotenv\n",
    "load_dotenv()"
   ]
  },
  {
   "cell_type": "code",
   "execution_count": 33,
   "id": "490a71d9",
   "metadata": {},
   "outputs": [],
   "source": [
    "# define state\n",
    "class EssayState(TypedDict):\n",
    "    topic: str\n",
    "    essay: str\n",
    "    feedback: str\n",
    "    status: Literal[\"approved\", \"not_approved\"]\n",
    "    iteration: int\n",
    "    max_iteration: int"
   ]
  },
  {
   "cell_type": "code",
   "execution_count": 34,
   "id": "b287a3bd",
   "metadata": {},
   "outputs": [],
   "source": [
    "class EssayFeedback(BaseModel):\n",
    "    feedback: str = Field(..., description=\"provide the feedback based on the essay\")\n",
    "    status: Literal[\"approved\", \"not_approved\"] = Field(..., description=\"provide the status of being approved or not approved\")\n"
   ]
  },
  {
   "cell_type": "code",
   "execution_count": 35,
   "id": "21f05629",
   "metadata": {},
   "outputs": [],
   "source": [
    "model = ChatGroq(model=\"llama-3.1-8b-instant\", temperature=0.7)\n",
    "structure_model = model.with_structured_output(EssayFeedback)"
   ]
  },
  {
   "cell_type": "code",
   "execution_count": 36,
   "id": "9d915eeb",
   "metadata": {},
   "outputs": [
    {
     "data": {
      "text/plain": [
       "AIMessage(content=\"**Machine Learning Overview**\\n\\nMachine learning is a subset of artificial intelligence (AI) that involves training algorithms to learn from data and make predictions or decisions without being explicitly programmed. The goal of machine learning is to enable computers to improve their performance on a task over time, based on the data they receive.\\n\\n**Types of Machine Learning**\\n\\nThere are three primary types of machine learning:\\n\\n1. **Supervised Learning**: In this type of learning, the algorithm is trained on labeled data, where the correct output is already known. The algorithm learns to map inputs to outputs by minimizing the error between its predictions and the actual outputs.\\n2. **Unsupervised Learning**: In this type of learning, the algorithm is trained on unlabeled data, and it must find patterns or structure in the data on its own. Clustering, dimensionality reduction, and anomaly detection are common applications of unsupervised learning.\\n3. **Reinforcement Learning**: In this type of learning, the algorithm learns by interacting with an environment and receiving rewards or penalties for its actions. The goal is to learn a policy that maximizes the cumulative reward.\\n\\n**Machine Learning Techniques**\\n\\nSome common machine learning techniques include:\\n\\n1. **Linear Regression**: A supervised learning algorithm for predicting continuous outcomes.\\n2. **Decision Trees**: A supervised learning algorithm for classification and regression tasks.\\n3. **Random Forests**: An ensemble learning algorithm that combines multiple decision trees to improve performance.\\n4. **Support Vector Machines (SVMs)**: A supervised learning algorithm for classification and regression tasks.\\n5. **Neural Networks**: A type of machine learning model inspired by the structure and function of the brain.\\n6. **Clustering**: An unsupervised learning algorithm for grouping similar data points into clusters.\\n7. **Dimensionality Reduction**: A technique for reducing the number of features in a dataset while preserving its information content.\\n\\n**Applications of Machine Learning**\\n\\nMachine learning has a wide range of applications, including:\\n\\n1. **Image and Speech Recognition**: Machine learning algorithms can be used to recognize objects, people, and speech patterns in images and audio recordings.\\n2. **Natural Language Processing (NLP)**: Machine learning algorithms can be used to analyze and generate text, as well as translate languages.\\n3. **Predictive Maintenance**: Machine learning algorithms can be used to predict when maintenance is required for equipment or machinery.\\n4. **Recommendation Systems**: Machine learning algorithms can be used to recommend products or services based on user behavior and preferences.\\n5. **Autonomous Vehicles**: Machine learning algorithms can be used to enable self-driving cars and drones.\\n\\n**Machine Learning Tools and Libraries**\\n\\nSome popular machine learning tools and libraries include:\\n\\n1. **TensorFlow**: An open-source machine learning library developed by Google.\\n2. **PyTorch**: An open-source machine learning library developed by Facebook.\\n3. **Scikit-learn**: A popular open-source machine learning library for Python.\\n4. **Keras**: A high-level neural networks API that can run on top of TensorFlow or Theano.\\n5. **Microsoft Azure Machine Learning**: A cloud-based platform for building, training, and deploying machine learning models.\\n\\n**Machine Learning Best Practices**\\n\\nSome best practices for machine learning include:\\n\\n1. **Data Preprocessing**: Clean and preprocess data before training a model.\\n2. **Model Selection**: Choose a model that is suitable for the problem and data.\\n3. **Hyperparameter Tuning**: Tune hyperparameters to optimize model performance.\\n4. **Model Evaluation**: Evaluate model performance using metrics such as accuracy, precision, and recall.\\n5. **Model Interpretability**: Use techniques such as feature importance and partial dependence plots to understand how a model makes predictions.\\n\\nI hope this gives you a good overview of machine learning! Do you have any specific questions or topics you'd like to explore further?\", additional_kwargs={}, response_metadata={'token_usage': {'completion_tokens': 772, 'prompt_tokens': 37, 'total_tokens': 809, 'completion_time': 0.949892015, 'prompt_time': 0.002316515, 'queue_time': 0.056116374, 'total_time': 0.95220853}, 'model_name': 'llama-3.1-8b-instant', 'system_fingerprint': 'fp_90c2e79dab', 'service_tier': 'on_demand', 'finish_reason': 'stop', 'logprobs': None}, id='run--433bfd93-e1ae-4ef7-9af8-0b7dca57dadb-0', usage_metadata={'input_tokens': 37, 'output_tokens': 772, 'total_tokens': 809})"
      ]
     },
     "execution_count": 36,
     "metadata": {},
     "output_type": "execute_result"
    }
   ],
   "source": [
    "model.invoke(\"machine learning\")"
   ]
  },
  {
   "cell_type": "code",
   "execution_count": 37,
   "id": "35bc88c7",
   "metadata": {},
   "outputs": [],
   "source": [
    "#define nodes\n",
    "def generate_essay(state: EssayState):\n",
    "    prompt = f\"\"\"Generate an short, original, and hilarious essay on the topic: {state[\"topic\"]}\\n\n",
    "                This is version {state['iteration'] + 1}\n",
    "                \"\"\"\n",
    "    essay = model.invoke(prompt).content\n",
    "    return {\"essay\": essay}\n",
    "\n",
    "def evaluate_essay(state: EssayState):\n",
    "    prompt = f\"\"\"\n",
    "    You are an expert essay evaluator. Please provide a detailed evaluation of the following essay based on the following criteria:\n",
    "\n",
    "    1. **Coherence & Structure**: Does the essay flow logically, with a clear introduction, body, and conclusion?\n",
    "    2. **Argument Strength**: Are the arguments well-supported and persuasive?\n",
    "    3. **Grammar & Syntax**: Are there any grammatical errors or awkward sentence structures?\n",
    "    4. **Clarity & Precision**: Is the essay easy to understand? Are any points unclear or vague?\n",
    "    5. **Overall Impression**: How effective is the essay overall in addressing the topic and communicating ideas?\n",
    "\n",
    "    Essay Topic: {state[\"topic\"]}\n",
    "\n",
    "    Essay: {state[\"essay\"]}\n",
    "\n",
    "    Please provide feedback for each of these categories along with an overall score (out of 10) based on your evaluation.\n",
    "    \"\"\"\n",
    "    response = structure_model.invoke(prompt)\n",
    "    print(response.feedback)\n",
    "    print(response.status)\n",
    "    return {\"feedback\": response.feedback, \"status\": response.status}\n",
    "\n",
    "def optimize_essay(state: EssayState):\n",
    "    prompt = f\"\"\"\n",
    "    You are an expert editor and essay optimizer. Your task is to improve the following essay based on the provided feedback. \n",
    "\n",
    "    Here is the topic of the essay:\n",
    "    **Essay Topic:** {state[\"topic\"]}\n",
    "\n",
    "    Here is the original essay:\n",
    "    **Original Essay:**\n",
    "    {state[\"essay\"]}\n",
    "\n",
    "    Feedback for improvement:\n",
    "    **Feedback:** \n",
    "    {state[\"feedback\"]}\n",
    "\n",
    "    Please revise the essay, addressing the following:\n",
    "    1. Improve the **coherence and structure**: Make sure the essay flows logically with smooth transitions between paragraphs.\n",
    "    2. Strengthen the **arguments**: Provide more evidence or clearer reasoning where needed.\n",
    "    3. Correct any **grammar, syntax, or spelling errors**.\n",
    "    4. Enhance the **clarity and precision** of language. Ensure all points are clear and well-articulated.\n",
    "    5. Make the essay more **persuasive** and engaging, while staying relevant to the topic.\n",
    "\n",
    "    Provide the revised version of the essay below.\n",
    "    \"\"\"\n",
    "    essay = model.invoke(prompt).content  # Fixed: Added .content to get string\n",
    "    iteration = state[\"iteration\"] + 1\n",
    "\n",
    "    return {\"essay\": essay, \"iteration\": iteration}"
   ]
  },
  {
   "cell_type": "code",
   "execution_count": 38,
   "id": "99ce26d2",
   "metadata": {},
   "outputs": [],
   "source": [
    "def route_evaluation(state: EssayState):\n",
    "    \n",
    "    if state[\"status\"] == \"approved\" or state[\"iteration\"] >= state[\"max_iteration\"]:\n",
    "        return \"approved\"\n",
    "    else:\n",
    "        return \"not_approved\""
   ]
  },
  {
   "cell_type": "code",
   "execution_count": 39,
   "id": "0de875d4",
   "metadata": {},
   "outputs": [],
   "source": [
    "# define graph\n",
    "graph = StateGraph(EssayState)"
   ]
  },
  {
   "cell_type": "code",
   "execution_count": 40,
   "metadata": {},
   "outputs": [
    {
     "data": {
      "text/plain": [
       "<langgraph.graph.state.StateGraph at 0x25b50903a50>"
      ]
     },
     "execution_count": 40,
     "metadata": {},
     "output_type": "execute_result"
    }
   ],
   "source": [
    "# add nodes\n",
    "graph.add_node(\"generate_essay\", generate_essay)\n",
    "graph.add_node(\"evaluate_essay\", evaluate_essay)\n",
    "graph.add_node(\"optimize_essay\", optimize_essay)"
   ]
  },
  {
   "cell_type": "code",
   "execution_count": 41,
   "id": "8412b13f",
   "metadata": {},
   "outputs": [
    {
     "data": {
      "text/plain": [
       "<langgraph.graph.state.StateGraph at 0x25b50903a50>"
      ]
     },
     "execution_count": 41,
     "metadata": {},
     "output_type": "execute_result"
    }
   ],
   "source": [
    "# add edges\n",
    "graph.add_edge(START, \"generate_essay\")\n",
    "graph.add_edge(\"generate_essay\", \"evaluate_essay\")\n",
    "\n",
    "graph.add_conditional_edges(\"evaluate_essay\", route_evaluation, {\"approved\": END, \"not_approved\": \"optimize_essay\"})\n",
    "\n",
    "graph.add_edge(\"optimize_essay\", \"evaluate_essay\")"
   ]
  },
  {
   "cell_type": "code",
   "execution_count": 42,
   "metadata": {},
   "outputs": [
    {
     "data": {
      "image/png": "[encoded data removed]",
      "text/plain": [
       "<langgraph.graph.state.CompiledStateGraph object at 0x0000025B50830910>"
      ]
     },
     "execution_count": 42,
     "metadata": {},
     "output_type": "execute_result"
    }
   ],
   "source": [
    "workflow = graph.compile()\n",
    "workflow"
   ]
  },
  {
   "cell_type": "code",
   "execution_count": 43,
   "id": "46d65c19",
   "metadata": {},
   "outputs": [],
   "source": [
    "initial_state = {\n",
    "    \"topic\": \"Machine Learning\",\n",
    "    \"iteration\": 1,\n",
    "    \"max_iteration\": 5,\n",
    "}"
   ]
  },
  {
   "cell_type": "code",
   "execution_count": 48,
   "id": "95ac3866",
   "metadata": {},
   "outputs": [
    {
     "name": "stdout",
     "output_type": "stream",
     "text": [
      "The essay has a clear and engaging structure, with a well-defined introduction, body, and conclusion. However, the arguments presented are somewhat exaggerated and lack concrete evidence to support the claims made. The tone is playful and humorous, which may not be suitable for all audiences. There are minor grammatical errors throughout the essay, but overall, the writing is clear and concise. The essay's coherence and structure are its strongest aspects, with a clear flow of ideas. However, the argument strength is diminished by the lack of concrete evidence and the reliance on humor. Overall, the essay is well-written and engaging, but could benefit from a more nuanced approach to addressing the topic of machine learning.\n",
      "not_approved\n",
      "Overall, the essay provides a well-structured and coherent argument about the rise of machine learning and its implications. The writer effectively explores both the benefits and challenges of relying on AI-powered systems. However, there are some areas for improvement, such as providing more concrete examples and evidence to support the claims made. Additionally, some of the sentences could be rephrased for better clarity and precision. Nevertheless, the writer demonstrates a good understanding of the topic and presents a nuanced approach to addressing the issues posed by machine learning. \n",
      "approved\n"
     ]
    },
    {
     "data": {
      "text/plain": [
       "{'topic': 'Machine Learning',\n",
       " 'essay': '**The Rise of Machine Learning: Balancing Innovation and Responsibility**\\n\\nIn recent years, machine learning has emerged as a transformative force in various industries, from e-commerce to real estate. Companies like Amazon and Zillow have leveraged AI-powered robots to improve customer experiences and increase efficiency. These robots have gained unprecedented insight into our shopping habits, desires, and even our preferences for pizza toppings. However, as machine learning advances, it\\'s essential to examine the potential consequences of relying on these automated systems.\\n\\nOne notable consequence is the development of AI-powered customer service chats. These robots have become increasingly adept at simulating human-like conversations, often with a sarcastic tone that can be both entertaining and infuriating. While a well-crafted joke or meme can be a welcome relief from the monotony of customer service, it raises concerns about the potential for robots to surpass human emotional intelligence. For instance, a study by the University of California, Berkeley, found that AI-powered chatbots can be effective in resolving customer complaints, but their ability to empathize with users is limited (1).\\n\\nMoreover, the increasing reliance on machine learning has led to the creation of AI-generated content, including memes and jokes. While this may seem like a trivial matter, it highlights the potential for robots to manipulate and influence public opinion. A study by the Massachusetts Institute of Technology (MIT) discovered that AI-generated memes can be designed to spread misinformation and sway public sentiment (2). This raises important questions about the accountability and transparency of AI systems, particularly in the context of social media.\\n\\nHowever, not all is lost in the world of machine learning. The technology has also enabled the development of creative and innovative solutions to complex problems. For instance, AI-powered robots have been used to improve accessibility for people with disabilities, providing personalized assistance and support (3). Moreover, the use of machine learning has the potential to enhance customer experiences, enabling companies to provide tailored recommendations and services.\\n\\nIn conclusion, the rise of machine learning poses both opportunities and challenges. While the technology has the potential to revolutionize various industries, it also raises important questions about accountability, transparency, and the potential for AI to surpass human capabilities. As we continue to develop and rely on machine learning, it\\'s essential to strike a balance between innovation and responsibility. By doing so, we can harness the full potential of machine learning while minimizing its risks.\\n\\nReferences:\\n\\n(1) \"The Impact of AI-Powered Chatbots on Customer Service\" by the University of California, Berkeley (2020)\\n\\n(2) \"The Spread of Misinformation through AI-Generated Memes\" by the Massachusetts Institute of Technology (MIT) (2019)\\n\\n(3) \"AI-Powered Robots for Accessibility\" by the World Health Organization (2022)\\n\\n**Changes Made:**\\n\\n1. **Improved coherence and structure**: The essay now flows logically with smooth transitions between paragraphs, exploring the potential consequences of relying on machine learning.\\n2. **Strengthened arguments**: The essay provides more evidence and clearer reasoning, drawing on studies and research to support the claims made.\\n3. **Corrected grammar, syntax, and spelling errors**: The essay has been edited to ensure clarity and precision of language.\\n4. **Enhanced clarity and precision**: The points made in the essay are clear and well-articulated, with a focus on providing concrete evidence and reasoning.\\n5. **Made the essay more persuasive and engaging**: The revised essay presents a nuanced approach to addressing the topic of machine learning, highlighting both the benefits and risks of relying on AI-powered systems.',\n",
       " 'feedback': 'Overall, the essay provides a well-structured and coherent argument about the rise of machine learning and its implications. The writer effectively explores both the benefits and challenges of relying on AI-powered systems. However, there are some areas for improvement, such as providing more concrete examples and evidence to support the claims made. Additionally, some of the sentences could be rephrased for better clarity and precision. Nevertheless, the writer demonstrates a good understanding of the topic and presents a nuanced approach to addressing the issues posed by machine learning. ',\n",
       " 'status': 'approved',\n",
       " 'iteration': 2,\n",
       " 'max_iteration': 5}"
      ]
     },
     "execution_count": 48,
     "metadata": {},
     "output_type": "execute_result"
    }
   ],
   "source": [
    "workflow.invoke(initial_state)"
   ]
  },
  {
   "cell_type": "code",
   "execution_count": null,
   "id": "c3f8275f",
   "metadata": {},
   "outputs": [],
   "source": []
  }
 ],
 "metadata": {
  "kernelspec": {
   "display_name": "venv",
   "language": "python",
   "name": "python3"
  },
  "language_info": {
   "codemirror_mode": {
    "name": "ipython",
    "version": 3
   },
   "file_extension": ".py",
   "mimetype": "text/x-python",
   "name": "python",
   "nbconvert_exporter": "python",
   "pygments_lexer": "ipython3",
   "version": "3.11.9"
  }
 },
 "nbformat": 4,
 "nbformat_minor": 5
}
