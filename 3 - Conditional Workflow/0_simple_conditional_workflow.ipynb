{
 "cells": [
  {
   "cell_type": "code",
   "execution_count": 20,
   "id": "dbaf6c97",
   "metadata": {},
   "outputs": [],
   "source": [
    "from langgraph.graph import StateGraph, START, END\n",
    "from typing import TypedDict, Literal\n",
    "import math"
   ]
  },
  {
   "cell_type": "code",
   "execution_count": 21,
   "id": "9f672b5c",
   "metadata": {},
   "outputs": [],
   "source": [
    "# create state\n",
    "class EquationState(TypedDict):\n",
    "    a: int\n",
    "    b: int\n",
    "    c: int\n",
    "    discriminant: float\n",
    "    equation: str\n",
    "    result: str"
   ]
  },
  {
   "cell_type": "code",
   "execution_count": 22,
   "id": "69bcf37c",
   "metadata": {},
   "outputs": [],
   "source": [
    "# create nodes\n",
    "def createEquation(state: EquationState):\n",
    "    equation = f\"{state['a']}x2{state['b']}x{state['c']}\"\n",
    "\n",
    "    return {\"equation\": equation}\n",
    "\n",
    "def findDiscriminant(state: EquationState):\n",
    "    d = (state['b']**2)-(4*state['a']*state['c'])\n",
    "    return {\"discriminant\": d}\n",
    "\n",
    "def realRoots(state: EquationState):\n",
    "    root1 = (-state['b'] + math.sqrt(state['discriminant']))/(2*state['a'])\n",
    "    root2 = (-state['b'] - math.sqrt(state['discriminant']))/(2*state['a'])\n",
    "\n",
    "    return {\"result\": f\"There are 2 real roots: {root1}, {root2}\"}\n",
    "\n",
    "def repeatedRoots(state: EquationState):\n",
    "    root = (-state['b'])/(2*state['a'])\n",
    "\n",
    "    return {\"result\": f\"There is 1 repeated root: {root}\"}\n",
    "\n",
    "def noRealRoots(state: EquationState):\n",
    "\n",
    "    return {\"result\": \"There is no real roots\"}\n",
    "\n",
    "def checkCondition(state: EquationState) -> Literal[\"realRoots\", \"repeatedRoots\", \"noRealRoots\"]:\n",
    "\n",
    "    if state[\"discriminant\"] > 0:\n",
    "        return \"realRoots\"\n",
    "    elif state[\"discriminant\"] == 0:\n",
    "        return \"repeatedRoots\"\n",
    "    else:\n",
    "        return \"noRealRoots\"\n"
   ]
  },
  {
   "cell_type": "code",
   "execution_count": 23,
   "id": "49aa32b0",
   "metadata": {},
   "outputs": [],
   "source": [
    "# define graph\n",
    "graph = StateGraph(EquationState)"
   ]
  },
  {
   "cell_type": "code",
   "execution_count": 24,
   "id": "4b95a09b",
   "metadata": {},
   "outputs": [
    {
     "data": {
      "text/plain": [
       "<langgraph.graph.state.StateGraph at 0x1ec5df8b810>"
      ]
     },
     "execution_count": 24,
     "metadata": {},
     "output_type": "execute_result"
    }
   ],
   "source": [
    "# define nodes\n",
    "graph.add_node(\"createEquation\", createEquation)\n",
    "graph.add_node(\"findDiscriminant\", findDiscriminant)\n",
    "graph.add_node(\"realRoots\", realRoots)\n",
    "graph.add_node(\"noRealRoots\", noRealRoots)\n",
    "graph.add_node(\"repeatedRoots\", repeatedRoots)"
   ]
  },
  {
   "cell_type": "code",
   "execution_count": 25,
   "id": "5efd35fe",
   "metadata": {},
   "outputs": [
    {
     "data": {
      "text/plain": [
       "<langgraph.graph.state.StateGraph at 0x1ec5df8b810>"
      ]
     },
     "execution_count": 25,
     "metadata": {},
     "output_type": "execute_result"
    }
   ],
   "source": [
    "# define edges\n",
    "graph.add_edge(START, \"createEquation\")\n",
    "graph.add_edge(\"createEquation\", \"findDiscriminant\")\n",
    "\n",
    "graph.add_conditional_edges(\"findDiscriminant\", checkCondition)\n",
    "\n",
    "graph.add_edge(\"realRoots\", END)\n",
    "graph.add_edge(\"repeatedRoots\", END)\n",
    "graph.add_edge(\"noRealRoots\", END)"
   ]
  },
  {
   "cell_type": "code",
   "execution_count": 26,
   "id": "feaf8c3f",
   "metadata": {},
   "outputs": [
    {
     "data": {
      "image/png": "[encoded data removed]",
      "text/plain": [
       "<langgraph.graph.state.CompiledStateGraph object at 0x000001EC5DF95490>"
      ]
     },
     "execution_count": 26,
     "metadata": {},
     "output_type": "execute_result"
    }
   ],
   "source": [
    "# compile graph\n",
    "workflow = graph.compile()\n",
    "workflow"
   ]
  },
  {
   "cell_type": "code",
   "execution_count": null,
   "id": "b09fd4a0",
   "metadata": {},
   "outputs": [
    {
     "data": {
      "text/plain": [
       "{'a': 2,\n",
       " 'b': -4,\n",
       " 'c': -2,\n",
       " 'discriminant': 32,\n",
       " 'equation': '2x2-4x-2',\n",
       " 'result': 'There are 2 real roots: 2.414213562373095, -0.41421356237309515'}"
      ]
     },
     "execution_count": 28,
     "metadata": {},
     "output_type": "execute_result"
    }
   ],
   "source": [
    "# execute\n",
    "initial_state = {\n",
    "    'a': 2, \n",
    "    'b': -4,\n",
    "    'c': -2\n",
    "}\n",
    "\n",
    "workflow.invoke(initial_state)"
   ]
  },
  {
   "cell_type": "code",
   "execution_count": null,
   "id": "cb329f1b",
   "metadata": {},
   "outputs": [],
   "source": []
  }
 ],
 "metadata": {
  "kernelspec": {
   "display_name": "venv",
   "language": "python",
   "name": "python3"
  },
  "language_info": {
   "codemirror_mode": {
    "name": "ipython",
    "version": 3
   },
   "file_extension": ".py",
   "mimetype": "text/x-python",
   "name": "python",
   "nbconvert_exporter": "python",
   "pygments_lexer": "ipython3",
   "version": "3.11.9"
  }
 },
 "nbformat": 4,
 "nbformat_minor": 5
}
