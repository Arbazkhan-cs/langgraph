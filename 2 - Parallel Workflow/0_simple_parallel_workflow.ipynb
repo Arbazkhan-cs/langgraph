{
 "cells": [
  {
   "cell_type": "code",
   "execution_count": 2,
   "id": "ac18497f",
   "metadata": {},
   "outputs": [],
   "source": [
    "from langgraph.graph import StateGraph, START, END\n",
    "from typing import TypedDict"
   ]
  },
  {
   "cell_type": "code",
   "execution_count": 10,
   "id": "a7228379",
   "metadata": {},
   "outputs": [],
   "source": [
    "# create state\n",
    "class BatsmanState(TypedDict):\n",
    "    runs: int\n",
    "    balls: int\n",
    "    runs_4: int\n",
    "    runs_6: int\n",
    "    strike_rate: float\n",
    "    boundary_percentage: float\n",
    "    balls_per_boundary: float\n",
    "    summary: str"
   ]
  },
  {
   "cell_type": "code",
   "execution_count": 24,
   "id": "511711d7",
   "metadata": {},
   "outputs": [],
   "source": [
    "# create nodes\n",
    "def calculate_strike_rate(state: BatsmanState):\n",
    "    runs = state[\"runs\"]\n",
    "    balls = state[\"balls\"]\n",
    "\n",
    "    strike_rate = (runs/balls)*100\n",
    "\n",
    "    return {\"strike_rate\": strike_rate}\n",
    "\n",
    "def  calculate_boundry_percentage(state: BatsmanState):\n",
    "    total_runs = state[\"runs\"]\n",
    "    runs_4 = state[\"runs_4\"]\n",
    "    runs_6 = state[\"runs_6\"]\n",
    "\n",
    "    runs_4_count = runs_4 * 4\n",
    "    runs_6_count = runs_6 * 6\n",
    "\n",
    "    boundary_percentage = ((runs_6_count + runs_4_count)/total_runs) * 100\n",
    "\n",
    "    return {\"boundary_percentage\": boundary_percentage}\n",
    "\n",
    "def calculate_balls_per_boundary(state: BatsmanState):\n",
    "    total_runs = state[\"runs\"]\n",
    "    runs_4 = state[\"runs_4\"]\n",
    "    runs_6 = state[\"runs_6\"]\n",
    "\n",
    "    balls_per_boundary = total_runs/(runs_4 + runs_6)\n",
    "\n",
    "    return {\"balls_per_boundary\": balls_per_boundary}\n",
    "\n",
    "def calculate_summary(state: BatsmanState):\n",
    "    summary = f\"\"\"\n",
    "    Strike Rate: {state[\"strike_rate\"]}\n",
    "    Balls Per Boundary: {state[\"balls_per_boundary\"]}\n",
    "    Boundary Percentage: {state[\"boundary_percentage\"]}\n",
    "\"\"\"\n",
    "    \n",
    "    return {\"summary\": summary}"
   ]
  },
  {
   "cell_type": "code",
   "execution_count": 25,
   "id": "90597c9c",
   "metadata": {},
   "outputs": [],
   "source": [
    "# create graph\n",
    "graph = StateGraph(BatsmanState)"
   ]
  },
  {
   "cell_type": "code",
   "execution_count": 26,
   "id": "254852a9",
   "metadata": {},
   "outputs": [
    {
     "data": {
      "text/plain": [
       "<langgraph.graph.state.StateGraph at 0x21e82f8fc50>"
      ]
     },
     "execution_count": 26,
     "metadata": {},
     "output_type": "execute_result"
    }
   ],
   "source": [
    "# define nodes\n",
    "graph.add_node(\"calculate_bpb\", calculate_balls_per_boundary)\n",
    "graph.add_node(\"calculate_sr\", calculate_strike_rate)\n",
    "graph.add_node(\"calculate_bp\", calculate_boundry_percentage)\n",
    "graph.add_node(\"calculate_summary\", calculate_summary)"
   ]
  },
  {
   "cell_type": "code",
   "execution_count": 27,
   "id": "79d5a5e9",
   "metadata": {},
   "outputs": [
    {
     "data": {
      "text/plain": [
       "<langgraph.graph.state.StateGraph at 0x21e82f8fc50>"
      ]
     },
     "execution_count": 27,
     "metadata": {},
     "output_type": "execute_result"
    }
   ],
   "source": [
    "# define edges\n",
    "graph.add_edge(START, \"calculate_bpb\")\n",
    "graph.add_edge(START, \"calculate_sr\")\n",
    "graph.add_edge(START, \"calculate_bp\")\n",
    "\n",
    "graph.add_edge(\"calculate_bpb\", \"calculate_summary\")\n",
    "graph.add_edge(\"calculate_sr\", \"calculate_summary\")\n",
    "graph.add_edge(\"calculate_bp\", \"calculate_summary\")\n",
    "\n",
    "graph.add_edge(\"calculate_summary\", END)"
   ]
  },
  {
   "cell_type": "code",
   "execution_count": 28,
   "id": "7003c0e9",
   "metadata": {},
   "outputs": [
    {
     "data": {
      "image/png": "[encoded data removed]",
      "text/plain": [
       "<langgraph.graph.state.CompiledStateGraph object at 0x0000021E832A0E90>"
      ]
     },
     "execution_count": 28,
     "metadata": {},
     "output_type": "execute_result"
    }
   ],
   "source": [
    "# compile graph and get workflow\n",
    "workflow = graph.compile()\n",
    "workflow"
   ]
  },
  {
   "cell_type": "code",
   "execution_count": 29,
   "id": "55468461",
   "metadata": {},
   "outputs": [
    {
     "data": {
      "text/plain": [
       "{'runs': 100,\n",
       " 'balls': 50,\n",
       " 'runs_4': 6,\n",
       " 'runs_6': 4,\n",
       " 'strike_rate': 200.0,\n",
       " 'boundary_percentage': 48.0,\n",
       " 'balls_per_boundary': 10.0,\n",
       " 'summary': '\\n    Strike Rate: 200.0\\n    Balls Per Boundary: 10.0\\n    Boundary Percentage: 48.0\\n'}"
      ]
     },
     "execution_count": 29,
     "metadata": {},
     "output_type": "execute_result"
    }
   ],
   "source": [
    "# execute graph\n",
    "initial_state = {\"runs\": 100, \"runs_4\": 6, \"runs_6\": 4, \"balls\": 50}\n",
    "output_state = workflow.invoke(initial_state)\n",
    "output_state"
   ]
  },
  {
   "cell_type": "code",
   "execution_count": 30,
   "id": "542416f1",
   "metadata": {},
   "outputs": [
    {
     "name": "stdout",
     "output_type": "stream",
     "text": [
      "\n",
      "    Strike Rate: 200.0\n",
      "    Balls Per Boundary: 10.0\n",
      "    Boundary Percentage: 48.0\n",
      "\n"
     ]
    }
   ],
   "source": [
    "print(output_state[\"summary\"])"
   ]
  },
  {
   "cell_type": "code",
   "execution_count": null,
   "id": "1d69a14d",
   "metadata": {},
   "outputs": [],
   "source": []
  }
 ],
 "metadata": {
  "kernelspec": {
   "display_name": "venv",
   "language": "python",
   "name": "python3"
  },
  "language_info": {
   "codemirror_mode": {
    "name": "ipython",
    "version": 3
   },
   "file_extension": ".py",
   "mimetype": "text/x-python",
   "name": "python",
   "nbconvert_exporter": "python",
   "pygments_lexer": "ipython3",
   "version": "3.11.9"
  }
 },
 "nbformat": 4,
 "nbformat_minor": 5
}
